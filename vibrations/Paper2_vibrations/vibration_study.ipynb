{
 "cells": [
  {
   "cell_type": "code",
   "execution_count": 2,
   "metadata": {},
   "outputs": [],
   "source": [
    "import os,shutil,sys\n",
    "import ase\n",
    "from ase.io import read,write,iread\n",
    "from ase.visualize import view\n",
    "from ase.optimize import FIRE, BFGS\n",
    "from ase.neb import NEBTools\n",
    "from ase.calculators.aims import Aims\n",
    "from ase.calculators.orca import ORCA # comment this if orca.ase hasn't been set up yet"
   ]
  },
  {
   "cell_type": "code",
   "execution_count": null,
   "metadata": {},
   "outputs": [],
   "source": []
  }
 ],
 "metadata": {
  "kernelspec": {
   "display_name": "Python 2",
   "name": "python2"
  },
  "language_info": {
   "codemirror_mode": {
    "name": "ipython",
    "version": 3
   },
   "file_extension": ".py",
   "mimetype": "text/x-python",
   "name": "python",
   "nbconvert_exporter": "python",
   "pygments_lexer": "ipython3",
   "version": "3.8.5"
  },
  "orig_nbformat": 4
 },
 "nbformat": 4,
 "nbformat_minor": 2
}