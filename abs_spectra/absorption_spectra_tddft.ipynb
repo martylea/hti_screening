{
 "cells": [
  {
   "cell_type": "markdown",
   "metadata": {},
   "source": [
    "# Absorption spectra in ORCA (TD-DFT)"
   ]
  },
  {
   "cell_type": "code",
   "execution_count": 3,
   "metadata": {},
   "outputs": [],
   "source": [
    "import os,shutil,sys\n",
    "import ase\n",
    "from ase.io import read,write,iread\n",
    "from ase.visualize import view\n",
    "from ase.optimize import FIRE, BFGS\n",
    "from ase.neb import NEBTools\n",
    "from ase.calculators.aims import Aims\n",
    "from ase.calculators.orca import ORCA # comment this if orca.ase hasn't been set up yet"
   ]
  },
  {
   "cell_type": "markdown",
   "metadata": {},
   "source": [
    "## Performing the TDDFT calculation - .inp setup, to be run through SLURM/command line.\n",
    "The below cell writes a .py file which can be used to generate the input file, can be used on HPC this way with a SLURM submit script"
   ]
  },
  {
   "cell_type": "code",
   "execution_count": 10,
   "metadata": {},
   "outputs": [
    {
     "name": "stdout",
     "output_type": "stream",
     "text": [
      "Overwriting tddft_input_gen.py\n"
     ]
    }
   ],
   "source": [
    "%%writefile tddft_input_gen.py\n",
    "\n",
    "import sys\n",
    "def tddft_input_gen(functional, basis, roots, xyz, procs):\n",
    "    inp = open('./tddft_calc.inp', 'w+')\n",
    "    inp.write('! RKS '+str(functional)+' '+str(basis)+' 'str(basis)+'/c def2/J RIJCOSX \\n'\n",
    "              '%pal nprocs '+str(procs)+' end \\n'\n",
    "              '%tddft nroots '+str(roots)+' maxdim 10 end \\n'\n",
    "              '* xyzfile 0 1 '+str(xyz)+' \\n')\n",
    "    inp.close()\n",
    "tddft_input_gen(sys.argv[1], sys.argv[2], sys.argv[3], sys.argv[4], sys.argv[5])\n",
    "print('Generated file: tddft_calc.inp')"
   ]
  },
  {
   "cell_type": "markdown",
   "metadata": {},
   "source": [
    "## Performing the TDDFT calculation - ASE implementation"
   ]
  },
  {
   "cell_type": "code",
   "execution_count": 11,
   "metadata": {},
   "outputs": [
    {
     "name": "stdout",
     "output_type": "stream",
     "text": [
      "Writing tddft_orca_ase.py\n"
     ]
    }
   ],
   "source": [
    "%%writefile tddft_orca_ase.py\n",
    "def tddft_calc(functional, basis, roots, system, procs):\n",
    "    system = read(str(system))\n",
    "    system.calc = ORCA(label='orca',\n",
    "    maxiter = 200,\n",
    "    charge = 0, mult=1,\n",
    "    orcasimpleinput = str(functional)+' '+str(basis),\n",
    "    orcablocks = '%pal nprocs '+str(procs)+' end \\n'\n",
    "    '%tddft nroots '+str(roots)+' maxdim 10 end \\n')\n",
    "    try:\n",
    "        print(system.get_potential_energy())\n",
    "    except:\n",
    "        print('Calculation was not successful')\n",
    "\n",
    "\n",
    "tddft_calc(sys.argv[1], sys.argv[2], sys.argv[3], sys.argv[4], sys.argv[5)"
   ]
  },
  {
   "cell_type": "markdown",
   "metadata": {},
   "source": [
    "## Spectra and visualization"
   ]
  },
  {
   "cell_type": "code",
   "execution_count": 52,
   "metadata": {},
   "outputs": [
    {
     "name": "stdout",
     "output_type": "stream",
     "text": [
      "Overwriting generate_abs_spectra.py\n"
     ]
    }
   ],
   "source": [
    "%%writefile generate_abs_spectra.py\n",
    "import sys\n",
    "def generate_abs_spectra(outfilename, startwavelength, endwavelength):\n",
    "    import subprocess,time,sys\n",
    "    import matplotlib\n",
    "    import matplotlib.pyplot as plt\n",
    "    bashcmd = 'which orca'\n",
    "    process = subprocess.Popen(bashcmd.split(), stdout=subprocess.PIPE)\n",
    "    output, error = process.communicate()\n",
    "    os.system(output[0:-1]+'_mapspc '+outfilename+' ABS -x0'+str(1e+6/startwavelength)+' -x1'+str(1e+6/endwavelength))\n",
    "    time.sleep(2)\n",
    "    print('Spectra files generated')\n",
    "\n",
    "generate_abs_spectra(sys.argv[1], sys.argv[2], sys.argv[3])"
   ]
  },
  {
   "cell_type": "code",
   "execution_count": 50,
   "metadata": {},
   "outputs": [
    {
     "name": "stdout",
     "output_type": "stream",
     "text": [
      "/home/chem/msuccm/software/orca412/orca_mapspc\n"
     ]
    }
   ],
   "source": []
  },
  {
   "cell_type": "code",
   "execution_count": 31,
   "metadata": {},
   "outputs": [
    {
     "data": {
      "text/plain": [
       "0"
      ]
     },
     "execution_count": 31,
     "metadata": {},
     "output_type": "execute_result"
    }
   ],
   "source": []
  },
  {
   "cell_type": "code",
   "execution_count": null,
   "metadata": {},
   "outputs": [],
   "source": []
  }
 ],
 "metadata": {
  "interpreter": {
   "hash": "aaf365130942758c6a138a63fa5ee3ce7c9f82390bd71a71b54d154209f8d429"
  },
  "kernelspec": {
   "display_name": "Python 2.7.15 64-bit (conda)",
   "name": "python3"
  },
  "language_info": {
   "codemirror_mode": {
    "name": "ipython",
    "version": 2
   },
   "file_extension": ".py",
   "mimetype": "text/x-python",
   "name": "python",
   "nbconvert_exporter": "python",
   "pygments_lexer": "ipython2",
   "version": "2.7.15"
  },
  "orig_nbformat": 4
 },
 "nbformat": 4,
 "nbformat_minor": 2
}