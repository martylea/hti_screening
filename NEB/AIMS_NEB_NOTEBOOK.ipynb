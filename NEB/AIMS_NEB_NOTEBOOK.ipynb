{
 "cells": [
  {
   "cell_type": "markdown",
   "metadata": {},
   "source": [
    "# Nudged elastic band calculation in FHI-aims using ASE (Python)"
   ]
  },
  {
   "cell_type": "markdown",
   "metadata": {},
   "source": [
    "Modules etc needed:"
   ]
  },
  {
   "cell_type": "code",
   "execution_count": null,
   "metadata": {},
   "outputs": [],
   "source": [
    "import os,shutil sys\n",
    "import ase\n",
    "from ase.io import read,write,iread\n",
    "from ase.visualize import view\n",
    "from ase.optimize import FIRE, BFGS\n",
    "from ase.neb import NEBTools\n",
    "from ase.calculators.aims import Aims"
   ]
  },
  {
   "cell_type": "markdown",
   "metadata": {},
   "source": [
    "Linear interpolation method using IDPP"
   ]
  },
  {
   "cell_type": "code",
   "execution_count": null,
   "metadata": {},
   "outputs": [],
   "source": [
    "def fhineb_interpolated(func, ini, fin, length):\n",
    "    start = read(str(ini))\n",
    "    path = [start]\n",
    "    path += [start.copy() for i in in range(length)]\n",
    "    path += [read(str(fin))]\n",
    "    neb = NEB(path)\n",
    "    neb.interpolate()\n",
    "\n",
    "    for image in path:\n",
    "        image.calc = Aims(outfilename = \"aims{0:2d}.out\".format(i),\n",
    "        aims_commad = 'srun '+os.getenv(\"HOME\")+'/software/FHIaims2020-200112_1/bin/tinis.ipi.aims.200112.scalapack.mpi.x',\n",
    "        xc = str(func),\n",
    "        sc_iter_limit = 100,\n",
    "        spin = 'none',\n",
    "        relativistic = ['atomic_zora', 'scalar'],\n",
    "        sc_accuracy_etot = 1e-6,\n",
    "        sc_accuracy_eev = 0.001,\n",
    "        sc_accuracy_rho = 1e-4,\n",
    "        sc_accuracy_forces = 1e-3\n",
    "        mixer = 'pulay',\n",
    "        KS_method = 'elpa')\n",
    "    \n",
    "    optimizer = BFGS(neb, trajectory='htineb.traj')\n",
    "    optimizer.run(fmax=0.2)\n",
    "    "
   ]
  },
  {
   "cell_type": "code",
   "execution_count": null,
   "metadata": {},
   "outputs": [],
   "source": [
    "def fhineb_preopt(func, ini, fin, length):\n",
    "    start = read(str(ini))\n",
    "    path = [start]\n",
    "    path += [start.copy() for i in in range(length)]\n",
    "    path += [read(str(fin))]\n",
    "    neb = NEB(path)\n",
    "    neb.interpolate()\n",
    "\n",
    "    for image in path:\n",
    "        image.calc = Aims(outfilename = \"aims{0:2d}.out\".format(i),\n",
    "        aims_commad = 'srun '+os.getenv(\"HOME\")+'/software/FHIaims2020-200112_1/bin/tinis.ipi.aims.200112.scalapack.mpi.x',\n",
    "        xc = str(func),\n",
    "        sc_iter_limit = 100,\n",
    "        spin = 'none',\n",
    "        relativistic = ['atomic_zora', 'scalar'],\n",
    "        sc_accuracy_etot = 1e-6,\n",
    "        sc_accuracy_eev = 0.001,\n",
    "        sc_accuracy_rho = 1e-4,\n",
    "        sc_accuracy_forces = 1e-3\n",
    "        mixer = 'pulay',\n",
    "        KS_method = 'elpa')\n",
    "    \n",
    "    optimizer = BFGS(neb, trajectory='htineb.traj')\n",
    "    optimizer.run(fmax=0.2)"
   ]
  }
 ],
 "metadata": {
  "interpreter": {
   "hash": "c02b0d9a8f0fc38195b74671bddb12c59af083e8bb6465ab0d586ddbd8a84e33"
  },
  "kernelspec": {
   "display_name": "Python 3.8.5 64-bit ('base': conda)",
   "name": "python3"
  },
  "language_info": {
   "name": "python",
   "version": ""
  },
  "orig_nbformat": 4
 },
 "nbformat": 4,
 "nbformat_minor": 2
}